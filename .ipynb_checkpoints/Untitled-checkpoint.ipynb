{
 "cells": [
  {
   "cell_type": "code",
   "execution_count": 220,
   "id": "fe9f6ca8-dec9-449b-860b-89e4b5db2763",
   "metadata": {},
   "outputs": [],
   "source": [
    "import pandas as pd\n",
    "import numpy as np\n",
    "import matplotlib.pyplot as plt\n",
    "from matplotlib.colors import ListedColormap\n",
    "import seaborn as sns"
   ]
  },
  {
   "cell_type": "code",
   "execution_count": 132,
   "id": "33c375c7-fc7f-44c0-bcaa-13cf5664e3ca",
   "metadata": {},
   "outputs": [],
   "source": [
    "class Block:\n",
    "    \n",
    "    def __init__(self, x: int, y: int, number: int, color: str, isHeart: bool, penalty: float = None):\n",
    "        self.x = x\n",
    "        self.y = y\n",
    "        self.penalty = penalty\n",
    "        self.number = number\n",
    "        self.color = color\n",
    "        self.isHeart = isHeart\n",
    "        \n",
    "    def __str__(self):\n",
    "        return f\"POS: {(self.x, self.y)}\\nNUM: {self.number}\\nCLR: {self.color}\\nHRT: {self.isHeart}\\nPEN: {self.penalty}\\n\""
   ]
  },
  {
   "cell_type": "code",
   "execution_count": 70,
   "id": "2dead1de-b162-4198-be27-d8bd14d7cb88",
   "metadata": {},
   "outputs": [],
   "source": [
    "scenario_1 = [[((i)+(6*j)) for i in range(6)] for j in range(6)]"
   ]
  },
  {
   "cell_type": "code",
   "execution_count": 71,
   "id": "a5aa2293-22da-4bd5-b209-2710448740c0",
   "metadata": {},
   "outputs": [
    {
     "data": {
      "text/plain": [
       "[[0, 1, 2, 3, 4, 5],\n",
       " [6, 7, 8, 9, 10, 11],\n",
       " [12, 13, 14, 15, 16, 17],\n",
       " [18, 19, 20, 21, 22, 23],\n",
       " [24, 25, 26, 27, 28, 29],\n",
       " [30, 31, 32, 33, 34, 35]]"
      ]
     },
     "execution_count": 71,
     "metadata": {},
     "output_type": "execute_result"
    }
   ],
   "source": [
    "scenario_1"
   ]
  },
  {
   "cell_type": "code",
   "execution_count": 83,
   "id": "4f38682f-baf4-40fa-881a-13fcaf69923e",
   "metadata": {},
   "outputs": [],
   "source": [
    "scenario_1 = [[0, 1, 1, 0, 1]]"
   ]
  },
  {
   "cell_type": "code",
   "execution_count": 211,
   "id": "07d63b8a-ac8d-4009-83ea-693c97f46575",
   "metadata": {},
   "outputs": [],
   "source": [
    "map_1 = [['R', 'G', 'G', 'G', 'R', 'G'],\n",
    "         ['G', 'G', 'G', 'R', 'G', 'G'],\n",
    "         ['G', 'G', 'R', 'GH', 'G', 'G'],\n",
    "         ['G', 'R', 'G', 'G', 'G', 'R'],\n",
    "         ['R', 'G', 'G', 'G', 'R', 'G'],\n",
    "         ['G', 'G', 'G', 'R', 'G', 'G']]\n",
    "\n",
    "heart_coordinates = (2,3)\n",
    "heart_color = 'G'\n",
    "output_map = [[] for i in range(len(map_1))]\n",
    "              \n",
    "for i in range(len(map_1)):\n",
    "    for j in range(len(map_1[i])):\n",
    "        if map_1[i][j] == 'R':\n",
    "            output_map[i].append(Block(x=i, y=j, number=((j)+(6*i)), color=0, isHeart=False, penalty= ((abs(heart_coordinates[0]-i)+abs(heart_coordinates[1]-j)) + (-5 if heart_color=='R' else 5))))\n",
    "        if map_1[i][j] == 'G':\n",
    "            output_map[i].append(Block(x=i, y=j, number=((j)+(6*i)), color=1, isHeart=False, penalty= ((abs(heart_coordinates[0]-i)+abs(heart_coordinates[1]-j)) + (-5 if heart_color=='G' else 5))))\n",
    "        if map_1[i][j] == 'GH':\n",
    "            output_map[i].append(Block(x=i, y=j, number=((j)+(6*i)), color=1, isHeart=True, penalty= ((abs(heart_coordinates[0]-i)+abs(heart_coordinates[1]-j)) + (-5 if heart_color=='G' else 5))))\n",
    "        if map_1[i][j] == 'RH':\n",
    "            output_map[i].append(Block(x=i, y=j, number=((j)+(6*i)), color=0, isHeart=True, penalty= ((abs(heart_coordinates[0]-i)+abs(heart_coordinates[1]-j)) + (-5 if heart_color=='R' else 5))))"
   ]
  },
  {
   "cell_type": "code",
   "execution_count": 240,
   "id": "72430d42-f19a-4078-bb74-5fa4aa99de06",
   "metadata": {},
   "outputs": [
    {
     "data": {
      "text/html": [
       "<div>\n",
       "<style scoped>\n",
       "    .dataframe tbody tr th:only-of-type {\n",
       "        vertical-align: middle;\n",
       "    }\n",
       "\n",
       "    .dataframe tbody tr th {\n",
       "        vertical-align: top;\n",
       "    }\n",
       "\n",
       "    .dataframe thead th {\n",
       "        text-align: right;\n",
       "    }\n",
       "</style>\n",
       "<table border=\"1\" class=\"dataframe\">\n",
       "  <thead>\n",
       "    <tr style=\"text-align: right;\">\n",
       "      <th></th>\n",
       "      <th>0</th>\n",
       "      <th>1</th>\n",
       "      <th>2</th>\n",
       "      <th>3</th>\n",
       "      <th>4</th>\n",
       "      <th>5</th>\n",
       "    </tr>\n",
       "  </thead>\n",
       "  <tbody>\n",
       "    <tr>\n",
       "      <th>0</th>\n",
       "      <td>POS: (0, 0)\\nNUM: 0\\nCLR: 0\\nHRT: False\\nPEN: ...</td>\n",
       "      <td>POS: (0, 1)\\nNUM: 1\\nCLR: 1\\nHRT: False\\nPEN: ...</td>\n",
       "      <td>POS: (0, 2)\\nNUM: 2\\nCLR: 1\\nHRT: False\\nPEN: ...</td>\n",
       "      <td>POS: (0, 3)\\nNUM: 3\\nCLR: 1\\nHRT: False\\nPEN: ...</td>\n",
       "      <td>POS: (0, 4)\\nNUM: 4\\nCLR: 0\\nHRT: False\\nPEN: 8\\n</td>\n",
       "      <td>POS: (0, 5)\\nNUM: 5\\nCLR: 1\\nHRT: False\\nPEN: ...</td>\n",
       "    </tr>\n",
       "    <tr>\n",
       "      <th>1</th>\n",
       "      <td>POS: (1, 0)\\nNUM: 6\\nCLR: 1\\nHRT: False\\nPEN: ...</td>\n",
       "      <td>POS: (1, 1)\\nNUM: 7\\nCLR: 1\\nHRT: False\\nPEN: ...</td>\n",
       "      <td>POS: (1, 2)\\nNUM: 8\\nCLR: 1\\nHRT: False\\nPEN: ...</td>\n",
       "      <td>POS: (1, 3)\\nNUM: 9\\nCLR: 0\\nHRT: False\\nPEN: 6\\n</td>\n",
       "      <td>POS: (1, 4)\\nNUM: 10\\nCLR: 1\\nHRT: False\\nPEN:...</td>\n",
       "      <td>POS: (1, 5)\\nNUM: 11\\nCLR: 1\\nHRT: False\\nPEN:...</td>\n",
       "    </tr>\n",
       "    <tr>\n",
       "      <th>2</th>\n",
       "      <td>POS: (2, 0)\\nNUM: 12\\nCLR: 1\\nHRT: False\\nPEN:...</td>\n",
       "      <td>POS: (2, 1)\\nNUM: 13\\nCLR: 1\\nHRT: False\\nPEN:...</td>\n",
       "      <td>POS: (2, 2)\\nNUM: 14\\nCLR: 0\\nHRT: False\\nPEN:...</td>\n",
       "      <td>POS: (2, 3)\\nNUM: 15\\nCLR: 1\\nHRT: True\\nPEN: ...</td>\n",
       "      <td>POS: (2, 4)\\nNUM: 16\\nCLR: 1\\nHRT: False\\nPEN:...</td>\n",
       "      <td>POS: (2, 5)\\nNUM: 17\\nCLR: 1\\nHRT: False\\nPEN:...</td>\n",
       "    </tr>\n",
       "    <tr>\n",
       "      <th>3</th>\n",
       "      <td>POS: (3, 0)\\nNUM: 18\\nCLR: 1\\nHRT: False\\nPEN:...</td>\n",
       "      <td>POS: (3, 1)\\nNUM: 19\\nCLR: 0\\nHRT: False\\nPEN:...</td>\n",
       "      <td>POS: (3, 2)\\nNUM: 20\\nCLR: 1\\nHRT: False\\nPEN:...</td>\n",
       "      <td>POS: (3, 3)\\nNUM: 21\\nCLR: 1\\nHRT: False\\nPEN:...</td>\n",
       "      <td>POS: (3, 4)\\nNUM: 22\\nCLR: 1\\nHRT: False\\nPEN:...</td>\n",
       "      <td>POS: (3, 5)\\nNUM: 23\\nCLR: 0\\nHRT: False\\nPEN:...</td>\n",
       "    </tr>\n",
       "    <tr>\n",
       "      <th>4</th>\n",
       "      <td>POS: (4, 0)\\nNUM: 24\\nCLR: 0\\nHRT: False\\nPEN:...</td>\n",
       "      <td>POS: (4, 1)\\nNUM: 25\\nCLR: 1\\nHRT: False\\nPEN:...</td>\n",
       "      <td>POS: (4, 2)\\nNUM: 26\\nCLR: 1\\nHRT: False\\nPEN:...</td>\n",
       "      <td>POS: (4, 3)\\nNUM: 27\\nCLR: 1\\nHRT: False\\nPEN:...</td>\n",
       "      <td>POS: (4, 4)\\nNUM: 28\\nCLR: 0\\nHRT: False\\nPEN:...</td>\n",
       "      <td>POS: (4, 5)\\nNUM: 29\\nCLR: 1\\nHRT: False\\nPEN:...</td>\n",
       "    </tr>\n",
       "    <tr>\n",
       "      <th>5</th>\n",
       "      <td>POS: (5, 0)\\nNUM: 30\\nCLR: 1\\nHRT: False\\nPEN:...</td>\n",
       "      <td>POS: (5, 1)\\nNUM: 31\\nCLR: 1\\nHRT: False\\nPEN:...</td>\n",
       "      <td>POS: (5, 2)\\nNUM: 32\\nCLR: 1\\nHRT: False\\nPEN:...</td>\n",
       "      <td>POS: (5, 3)\\nNUM: 33\\nCLR: 0\\nHRT: False\\nPEN:...</td>\n",
       "      <td>POS: (5, 4)\\nNUM: 34\\nCLR: 1\\nHRT: False\\nPEN:...</td>\n",
       "      <td>POS: (5, 5)\\nNUM: 35\\nCLR: 1\\nHRT: False\\nPEN:...</td>\n",
       "    </tr>\n",
       "  </tbody>\n",
       "</table>\n",
       "</div>"
      ],
      "text/plain": [
       "                                                   0  \\\n",
       "0  POS: (0, 0)\\nNUM: 0\\nCLR: 0\\nHRT: False\\nPEN: ...   \n",
       "1  POS: (1, 0)\\nNUM: 6\\nCLR: 1\\nHRT: False\\nPEN: ...   \n",
       "2  POS: (2, 0)\\nNUM: 12\\nCLR: 1\\nHRT: False\\nPEN:...   \n",
       "3  POS: (3, 0)\\nNUM: 18\\nCLR: 1\\nHRT: False\\nPEN:...   \n",
       "4  POS: (4, 0)\\nNUM: 24\\nCLR: 0\\nHRT: False\\nPEN:...   \n",
       "5  POS: (5, 0)\\nNUM: 30\\nCLR: 1\\nHRT: False\\nPEN:...   \n",
       "\n",
       "                                                   1  \\\n",
       "0  POS: (0, 1)\\nNUM: 1\\nCLR: 1\\nHRT: False\\nPEN: ...   \n",
       "1  POS: (1, 1)\\nNUM: 7\\nCLR: 1\\nHRT: False\\nPEN: ...   \n",
       "2  POS: (2, 1)\\nNUM: 13\\nCLR: 1\\nHRT: False\\nPEN:...   \n",
       "3  POS: (3, 1)\\nNUM: 19\\nCLR: 0\\nHRT: False\\nPEN:...   \n",
       "4  POS: (4, 1)\\nNUM: 25\\nCLR: 1\\nHRT: False\\nPEN:...   \n",
       "5  POS: (5, 1)\\nNUM: 31\\nCLR: 1\\nHRT: False\\nPEN:...   \n",
       "\n",
       "                                                   2  \\\n",
       "0  POS: (0, 2)\\nNUM: 2\\nCLR: 1\\nHRT: False\\nPEN: ...   \n",
       "1  POS: (1, 2)\\nNUM: 8\\nCLR: 1\\nHRT: False\\nPEN: ...   \n",
       "2  POS: (2, 2)\\nNUM: 14\\nCLR: 0\\nHRT: False\\nPEN:...   \n",
       "3  POS: (3, 2)\\nNUM: 20\\nCLR: 1\\nHRT: False\\nPEN:...   \n",
       "4  POS: (4, 2)\\nNUM: 26\\nCLR: 1\\nHRT: False\\nPEN:...   \n",
       "5  POS: (5, 2)\\nNUM: 32\\nCLR: 1\\nHRT: False\\nPEN:...   \n",
       "\n",
       "                                                   3  \\\n",
       "0  POS: (0, 3)\\nNUM: 3\\nCLR: 1\\nHRT: False\\nPEN: ...   \n",
       "1  POS: (1, 3)\\nNUM: 9\\nCLR: 0\\nHRT: False\\nPEN: 6\\n   \n",
       "2  POS: (2, 3)\\nNUM: 15\\nCLR: 1\\nHRT: True\\nPEN: ...   \n",
       "3  POS: (3, 3)\\nNUM: 21\\nCLR: 1\\nHRT: False\\nPEN:...   \n",
       "4  POS: (4, 3)\\nNUM: 27\\nCLR: 1\\nHRT: False\\nPEN:...   \n",
       "5  POS: (5, 3)\\nNUM: 33\\nCLR: 0\\nHRT: False\\nPEN:...   \n",
       "\n",
       "                                                   4  \\\n",
       "0  POS: (0, 4)\\nNUM: 4\\nCLR: 0\\nHRT: False\\nPEN: 8\\n   \n",
       "1  POS: (1, 4)\\nNUM: 10\\nCLR: 1\\nHRT: False\\nPEN:...   \n",
       "2  POS: (2, 4)\\nNUM: 16\\nCLR: 1\\nHRT: False\\nPEN:...   \n",
       "3  POS: (3, 4)\\nNUM: 22\\nCLR: 1\\nHRT: False\\nPEN:...   \n",
       "4  POS: (4, 4)\\nNUM: 28\\nCLR: 0\\nHRT: False\\nPEN:...   \n",
       "5  POS: (5, 4)\\nNUM: 34\\nCLR: 1\\nHRT: False\\nPEN:...   \n",
       "\n",
       "                                                   5  \n",
       "0  POS: (0, 5)\\nNUM: 5\\nCLR: 1\\nHRT: False\\nPEN: ...  \n",
       "1  POS: (1, 5)\\nNUM: 11\\nCLR: 1\\nHRT: False\\nPEN:...  \n",
       "2  POS: (2, 5)\\nNUM: 17\\nCLR: 1\\nHRT: False\\nPEN:...  \n",
       "3  POS: (3, 5)\\nNUM: 23\\nCLR: 0\\nHRT: False\\nPEN:...  \n",
       "4  POS: (4, 5)\\nNUM: 29\\nCLR: 1\\nHRT: False\\nPEN:...  \n",
       "5  POS: (5, 5)\\nNUM: 35\\nCLR: 1\\nHRT: False\\nPEN:...  "
      ]
     },
     "execution_count": 240,
     "metadata": {},
     "output_type": "execute_result"
    }
   ],
   "source": [
    "pd.DataFrame(output_map)"
   ]
  },
  {
   "cell_type": "code",
   "execution_count": 226,
   "id": "b27cba8a-8949-4d90-8b36-d5ee4c4531d1",
   "metadata": {},
   "outputs": [
    {
     "data": {
      "text/plain": [
       "<AxesSubplot:>"
      ]
     },
     "execution_count": 226,
     "metadata": {},
     "output_type": "execute_result"
    },
    {
     "data": {
      "image/png": "[encoded data removed]",
      "text/plain": [
       "<Figure size 432x288 with 2 Axes>"
      ]
     },
     "metadata": {
      "needs_background": "light"
     },
     "output_type": "display_data"
    }
   ],
   "source": [
    "colors = pd.DataFrame([[i.color for i in output_map[j]] for j in range(len(output_map))])\n",
    "sns.heatmap(colors, cmap=ListedColormap(['red', 'green']), linewidths=0.1)"
   ]
  },
  {
   "cell_type": "code",
   "execution_count": 235,
   "id": "4ee10b14-98ac-45ac-974e-d05e2e6c4891",
   "metadata": {},
   "outputs": [
    {
     "data": {
      "text/plain": [
       "<AxesSubplot:>"
      ]
     },
     "execution_count": 235,
     "metadata": {},
     "output_type": "execute_result"
    },
    {
     "data": {
      "image/png": "[encoded data removed]",
      "text/plain": [
       "<Figure size 432x288 with 2 Axes>"
      ]
     },
     "metadata": {
      "needs_background": "light"
     },
     "output_type": "display_data"
    }
   ],
   "source": [
    "heart = pd.DataFrame([[i.isHeart for i in output_map[j]] for j in range(len(output_map))])\n",
    "sns.heatmap(heart, cmap=ListedColormap(['lightgrey', 'red']), linewidths=0.1, annot=True)"
   ]
  },
  {
   "cell_type": "code",
   "execution_count": 219,
   "id": "15e817d4-4e15-4e1f-82ee-e171884db0b6",
   "metadata": {},
   "outputs": [
    {
     "data": {
      "text/plain": [
       "<AxesSubplot:>"
      ]
     },
     "execution_count": 219,
     "metadata": {},
     "output_type": "execute_result"
    },
    {
     "data": {
      "image/png": "[encoded data removed]",
      "text/plain": [
       "<Figure size 432x288 with 2 Axes>"
      ]
     },
     "metadata": {
      "needs_background": "light"
     },
     "output_type": "display_data"
    }
   ],
   "source": [
    "penalties = pd.DataFrame([[i.penalty for i in output_map[j]] for j in range(len(output_map))])\n",
    "sns.heatmap(penalties, cmap=\"gray_r\", linewidths=0.1)"
   ]
  },
  {
   "cell_type": "code",
   "execution_count": 72,
   "id": "bb778f5d-f521-4790-9c5c-4779de919102",
   "metadata": {},
   "outputs": [],
   "source": [
    "def find_edges(number):\n",
    "    edges = [number-6, number+6, number-1, number+1]\n",
    "    edges = [i for i in edges if i>=0 and i<=35 and ((number-5)%6!=0 or i!=number+1) and ((number)%6!=0 or i!=number-1)]\n",
    "    return edges"
   ]
  },
  {
   "cell_type": "code",
   "execution_count": 76,
   "id": "d49e7eb4-8def-48ff-bbac-3cc371b11b93",
   "metadata": {},
   "outputs": [
    {
     "data": {
      "text/plain": [
       "{0: [1, 6],\n",
       " 1: [0, 2, 7],\n",
       " 2: [1, 3, 8],\n",
       " 3: [2, 4, 9],\n",
       " 4: [3, 5, 10],\n",
       " 5: [4, 11],\n",
       " 6: [0, 7, 12],\n",
       " 7: [1, 6, 8, 13],\n",
       " 8: [2, 7, 9, 14],\n",
       " 9: [3, 8, 10, 15],\n",
       " 10: [4, 9, 11, 16],\n",
       " 11: [5, 10, 17],\n",
       " 12: [6, 13, 18],\n",
       " 13: [7, 12, 14, 19],\n",
       " 14: [8, 13, 15, 20],\n",
       " 15: [9, 14, 16, 21],\n",
       " 16: [10, 15, 17, 22],\n",
       " 17: [11, 16, 23],\n",
       " 18: [12, 19, 24],\n",
       " 19: [13, 18, 20, 25],\n",
       " 20: [14, 19, 21, 26],\n",
       " 21: [15, 20, 22, 27],\n",
       " 22: [16, 21, 23, 28],\n",
       " 23: [17, 22, 29],\n",
       " 24: [18, 25, 30],\n",
       " 25: [19, 24, 26, 31],\n",
       " 26: [20, 25, 27, 32],\n",
       " 27: [21, 26, 28, 33],\n",
       " 28: [22, 27, 29, 34],\n",
       " 29: [23, 28, 35],\n",
       " 30: [24, 31],\n",
       " 31: [25, 30, 32],\n",
       " 32: [26, 31, 33],\n",
       " 33: [27, 32, 34],\n",
       " 34: [28, 33, 35],\n",
       " 35: [29, 34]}"
      ]
     },
     "execution_count": 76,
     "metadata": {},
     "output_type": "execute_result"
    }
   ],
   "source": [
    "d = {}\n",
    "for i in range(36):\n",
    "    d[i]= sorted(find_edges(i))\n",
    "d"
   ]
  },
  {
   "cell_type": "code",
   "execution_count": 84,
   "id": "e494a1b1-bfe0-46b7-8833-547c167e63aa",
   "metadata": {},
   "outputs": [],
   "source": [
    "graph = {i:[] for i in range(4)}\n",
    "\n",
    "def addedge(_from, _to, cost):\n",
    "    graph[_from].append((_to, cost))\n",
    "    graph[_to].append((_from, cost))\n",
    " \n",
    " \n",
    "# The nodes shown in above example(by alphabets) are\n",
    "# implemented using integers addedge(x,y,cost);\n",
    "addedge(0, 1, 3)\n",
    "addedge(0, 2, 6)"
   ]
  },
  {
   "cell_type": "code",
   "execution_count": 85,
   "id": "9e768216-fb7c-426a-b659-5ab10839e9af",
   "metadata": {},
   "outputs": [
    {
     "data": {
      "text/plain": [
       "{0: [(1, 3), (2, 6)], 1: [(0, 3)], 2: [(0, 6)], 3: []}"
      ]
     },
     "execution_count": 85,
     "metadata": {},
     "output_type": "execute_result"
    }
   ],
   "source": [
    "graph"
   ]
  },
  {
   "cell_type": "code",
   "execution_count": null,
   "id": "f31433d5-2a6b-41c7-b1c4-fad04a1866dc",
   "metadata": {},
   "outputs": [],
   "source": [
    "goal_node = 15"
   ]
  }
 ],
 "metadata": {
  "kernelspec": {
   "display_name": "Python 3 (ipykernel)",
   "language": "python",
   "name": "python3"
  },
  "language_info": {
   "codemirror_mode": {
    "name": "ipython",
    "version": 3
   },
   "file_extension": ".py",
   "mimetype": "text/x-python",
   "name": "python",
   "nbconvert_exporter": "python",
   "pygments_lexer": "ipython3",
   "version": "3.9.7"
  }
 },
 "nbformat": 4,
 "nbformat_minor": 5
}
