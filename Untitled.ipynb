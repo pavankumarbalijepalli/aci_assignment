{
 "cells": [
  {
   "cell_type": "code",
   "execution_count": 1,
   "id": "fe9f6ca8-dec9-449b-860b-89e4b5db2763",
   "metadata": {},
   "outputs": [],
   "source": [
    "import pandas as pd\n",
    "import numpy as np\n",
    "import matplotlib.pyplot as plt\n",
    "import seaborn as sns"
   ]
  },
  {
   "cell_type": "code",
   "execution_count": 16,
   "id": "33c375c7-fc7f-44c0-bcaa-13cf5664e3ca",
   "metadata": {},
   "outputs": [],
   "source": [
    "class Block:\n",
    "    \n",
    "    def __init__(self, color, isHeart):\n",
    "        self.x = None\n",
    "        self.y = None\n",
    "        self.color = color\n",
    "        self.isHeart = isHeart\n",
    "        \n",
    "    def __str__(self):\n",
    "        return f\"{self.color} block; {'' if self.isHeart else 'Not'} heart;\\n\""
   ]
  },
  {
   "cell_type": "code",
   "execution_count": 17,
   "id": "e2053628-c76b-47c0-bff0-5be28f97e598",
   "metadata": {},
   "outputs": [
    {
     "name": "stdout",
     "output_type": "stream",
     "text": [
      "Red block; Not heart;\n",
      " Green block; Not heart;\n",
      " Red block;  heart;\n",
      " Green block;  heart;\n",
      "\n"
     ]
    }
   ],
   "source": [
    "red_block = Block(color=\"Red\", isHeart=False)\n",
    "green_block = Block(color=\"Green\", isHeart=False)\n",
    "red_heart = Block(color=\"Red\", isHeart=True)\n",
    "green_heart = Block(color=\"Green\", isHeart=True)\n",
    "\n",
    "print(red_block, green_block, red_heart, green_heart)"
   ]
  },
  {
   "cell_type": "code",
   "execution_count": null,
   "id": "cdbd43ca-a199-4259-93e6-82e76b06dcdf",
   "metadata": {},
   "outputs": [],
   "source": [
    "map_1 = [[red_block, green_block, green_block, green_block, red_block, green_block],\n",
    "         [green_block, green_block, green_block, red_block, green_block, green_block],\n",
    "         [green_block, green_block, red_block, green_heart, green_block, green_block],\n",
    "         [green_block, red_block, green_block, green_block, green_block, red_block],\n",
    "         [red_block, green_block, green_block, green_block, red_block, green_block],\n",
    "         [green_block, green_block, green_block, red_block, green_block, green_block]]\n",
    "\n",
    "map_1 = [[red_block, green_block, red_block, green_block, red_block, green_block],\n",
    "         [green_block, red_block, green_block, red_block, green_block, red_block],\n",
    "         [red_block, green_block, red_heart, green_block, red_block, green_block],\n",
    "         [green_block, red_block, green_block, red_block, green_block, red_block],\n",
    "         [red_block, green_block, red_block, green_block, red_block, green_block],\n",
    "         [green_block, red_block, green_block, red_block, green_block, red_block]]"
   ]
  },
  {
   "cell_type": "code",
   "execution_count": 79,
   "id": "2dead1de-b162-4198-be27-d8bd14d7cb88",
   "metadata": {},
   "outputs": [],
   "source": [
    "scenario_1 = [[((i+1)+(6*j)) for i in range(6)] for j in range(6)]"
   ]
  },
  {
   "cell_type": "code",
   "execution_count": 83,
   "id": "4f38682f-baf4-40fa-881a-13fcaf69923e",
   "metadata": {},
   "outputs": [],
   "source": [
    "scenario_1 = [[0, 1, 1, 0, 1]]"
   ]
  },
  {
   "cell_type": "code",
   "execution_count": null,
   "id": "07d63b8a-ac8d-4009-83ea-693c97f46575",
   "metadata": {},
   "outputs": [],
   "source": [
    "input_values = [[R, G, G, G, 5, 6],\n",
    " [G, 8, 9, 10, 11, 12],\n",
    " [13, 14, 15, RH, 17, 18],\n",
    " [19, 20, 21, 22, 23, 24],\n",
    " [25, 26, 27, 28, 29, 30],\n",
    " [31, 32, 33, 34, 35, 36]]"
   ]
  },
  {
   "cell_type": "code",
   "execution_count": 75,
   "id": "bb778f5d-f521-4790-9c5c-4779de919102",
   "metadata": {},
   "outputs": [],
   "source": [
    "def find_edges(x):\n",
    "    edges = [x-6, x+6, x-1, x+1]\n",
    "    edges = [i for i in edges if i>0 and i>0 and (i%6!=0 or x>i)]\n",
    "    return edges"
   ]
  },
  {
   "cell_type": "code",
   "execution_count": 76,
   "id": "d49e7eb4-8def-48ff-bbac-3cc371b11b93",
   "metadata": {},
   "outputs": [
    {
     "data": {
      "text/plain": [
       "[12, 17, 19]"
      ]
     },
     "execution_count": 76,
     "metadata": {},
     "output_type": "execute_result"
    }
   ],
   "source": [
    "find_edges(18)"
   ]
  },
  {
   "cell_type": "code",
   "execution_count": 84,
   "id": "e494a1b1-bfe0-46b7-8833-547c167e63aa",
   "metadata": {},
   "outputs": [],
   "source": [
    "graph = {i:[] for i in range(4)}\n",
    "\n",
    "def addedge(_from, _to, cost):\n",
    "    graph[_from].append((_to, cost))\n",
    "    graph[_to].append((_from, cost))\n",
    " \n",
    " \n",
    "# The nodes shown in above example(by alphabets) are\n",
    "# implemented using integers addedge(x,y,cost);\n",
    "addedge(0, 1, 3)\n",
    "addedge(0, 2, 6)"
   ]
  },
  {
   "cell_type": "code",
   "execution_count": 85,
   "id": "9e768216-fb7c-426a-b659-5ab10839e9af",
   "metadata": {},
   "outputs": [
    {
     "data": {
      "text/plain": [
       "{0: [(1, 3), (2, 6)], 1: [(0, 3)], 2: [(0, 6)], 3: []}"
      ]
     },
     "execution_count": 85,
     "metadata": {},
     "output_type": "execute_result"
    }
   ],
   "source": [
    "graph"
   ]
  },
  {
   "cell_type": "code",
   "execution_count": null,
   "id": "f31433d5-2a6b-41c7-b1c4-fad04a1866dc",
   "metadata": {},
   "outputs": [],
   "source": []
  }
 ],
 "metadata": {
  "kernelspec": {
   "display_name": "Python 3 (ipykernel)",
   "language": "python",
   "name": "python3"
  },
  "language_info": {
   "codemirror_mode": {
    "name": "ipython",
    "version": 3
   },
   "file_extension": ".py",
   "mimetype": "text/x-python",
   "name": "python",
   "nbconvert_exporter": "python",
   "pygments_lexer": "ipython3",
   "version": "3.9.7"
  }
 },
 "nbformat": 4,
 "nbformat_minor": 5
}
