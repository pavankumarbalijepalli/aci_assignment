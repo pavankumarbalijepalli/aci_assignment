{
 "cells": [
  {
   "cell_type": "code",
   "execution_count": 76,
   "id": "fe9f6ca8-dec9-449b-860b-89e4b5db2763",
   "metadata": {},
   "outputs": [],
   "source": [
    "import pandas as pd\n",
    "import numpy as np\n",
    "import matplotlib.pyplot as plt\n",
    "from matplotlib.colors import ListedColormap\n",
    "import seaborn as sns\n",
    "import random"
   ]
  },
  {
   "cell_type": "code",
   "execution_count": 77,
   "id": "33c375c7-fc7f-44c0-bcaa-13cf5664e3ca",
   "metadata": {},
   "outputs": [],
   "source": [
    "class Block:\n",
    "    \n",
    "    def __init__(self, x: int, y: int, number: int, color: str, isHeart: bool, penalty: float = None):\n",
    "        self.x = x\n",
    "        self.y = y\n",
    "        self.penalty = penalty\n",
    "        self.number = number\n",
    "        self.color = color\n",
    "        self.isHeart = isHeart\n",
    "        \n",
    "    def __str__(self):\n",
    "        return f\"POS: {(self.x, self.y)}\\nNUM: {self.number}\\nCLR: {self.color}\\nHRT: {self.isHeart}\\nPEN: {self.penalty}\\n\"\n",
    "    \n",
    "    def __eq__(self, other):\n",
    "        if isinstance(other, Block):\n",
    "            return self.number == other.number\n",
    "\n",
    "        return self.number == other"
   ]
  },
  {
   "cell_type": "code",
   "execution_count": 89,
   "id": "07d63b8a-ac8d-4009-83ea-693c97f46575",
   "metadata": {},
   "outputs": [
    {
     "name": "stdout",
     "output_type": "stream",
     "text": [
      "27\n"
     ]
    }
   ],
   "source": [
    "map_1 = [['R', 'G', 'G', 'G', 'R', 'G'],\n",
    "         ['G', 'G', 'G', 'R', 'G', 'G'],\n",
    "         ['G', 'G', 'R', 'GH', 'G', 'G'],\n",
    "         ['G', 'R', 'G', 'G', 'G', 'R'],\n",
    "         ['R', 'G', 'G', 'G', 'R', 'G'],\n",
    "         ['G', 'G', 'G', 'R', 'G', 'G']]\n",
    "\n",
    "# Red: 0; Green: 1\n",
    "agent = 0\n",
    "random_start = random.randint(0,35)\n",
    "print(random_start)\n",
    "\n",
    "heart_coordinates = (2,3)\n",
    "heart_color = 'G'\n",
    "output_map = [[] for i in range(len(map_1))]\n",
    "              \n",
    "for i in range(len(map_1)):\n",
    "    for j in range(len(map_1[i])):\n",
    "        if map_1[i][j] == 'R':\n",
    "            output_map[i].append(Block(x=i, \n",
    "                                       y=j, \n",
    "                                       number=((j)+(6*i)), \n",
    "                                       color=0, \n",
    "                                       isHeart=False, \n",
    "                                       penalty= ((abs(heart_coordinates[0]-i)+abs(heart_coordinates[1]-j)) + (-5 if heart_color=='R' else 5) + (-10 if agent==0 else 10))\n",
    "                                      ))\n",
    "        if map_1[i][j] == 'G':\n",
    "            output_map[i].append(Block(x=i, \n",
    "                                       y=j, \n",
    "                                       number=((j)+(6*i)), \n",
    "                                       color=1, \n",
    "                                       isHeart=False, \n",
    "                                       penalty= ((abs(heart_coordinates[0]-i)+abs(heart_coordinates[1]-j)) + (-5 if heart_color=='G' else 5) + (-10 if agent==1 else 10))\n",
    "                                      ))\n",
    "        if map_1[i][j] == 'GH':\n",
    "            output_map[i].append(Block(x=i, \n",
    "                                       y=j, \n",
    "                                       number=((j)+(6*i)), \n",
    "                                       color=1, isHeart=True, \n",
    "                                       penalty= ((abs(heart_coordinates[0]-i)+abs(heart_coordinates[1]-j)) + (-5 if heart_color=='G' else 5) + (-10 if agent==1 else 10))\n",
    "                                      ))\n",
    "        if map_1[i][j] == 'RH':\n",
    "            output_map[i].append(Block(x=i, \n",
    "                                       y=j, \n",
    "                                       number=((j)+(6*i)), \n",
    "                                       color=0, \n",
    "                                       isHeart=True, \n",
    "                                       penalty= ((abs(heart_coordinates[0]-i)+abs(heart_coordinates[1]-j)) + (-5 if heart_color=='R' else 5) + (-10 if agent==0 else 10))\n",
    "                                      ))"
   ]
  },
  {
   "cell_type": "code",
   "execution_count": 90,
   "id": "ed2637c5-20fd-4b34-a3ff-8e1a933adf04",
   "metadata": {},
   "outputs": [
    {
     "data": {
      "text/plain": [
       "<AxesSubplot:title={'center':'Plot of Numbers on the Scenario'}>"
      ]
     },
     "execution_count": 90,
     "metadata": {},
     "output_type": "execute_result"
    },
    {
     "data": {
      "image/png": "[encoded data removed]",
      "text/plain": [
       "<Figure size 432x288 with 2 Axes>"
      ]
     },
     "metadata": {
      "needs_background": "light"
     },
     "output_type": "display_data"
    }
   ],
   "source": [
    "nodes = pd.DataFrame([[i.number for i in output_map[j]] for j in range(len(output_map))])\n",
    "plt.title('Plot of Numbers on the Scenario')\n",
    "sns.heatmap(nodes, linewidths=0.1, annot=True)"
   ]
  },
  {
   "cell_type": "code",
   "execution_count": 91,
   "id": "b27cba8a-8949-4d90-8b36-d5ee4c4531d1",
   "metadata": {},
   "outputs": [
    {
     "data": {
      "text/plain": [
       "<AxesSubplot:title={'center':'Plot of Colors on the Scenario'}>"
      ]
     },
     "execution_count": 91,
     "metadata": {},
     "output_type": "execute_result"
    },
    {
     "data": {
      "image/png": "[encoded data removed]",
      "text/plain": [
       "<Figure size 432x288 with 2 Axes>"
      ]
     },
     "metadata": {
      "needs_background": "light"
     },
     "output_type": "display_data"
    }
   ],
   "source": [
    "colors = pd.DataFrame([[i.color for i in output_map[j]] for j in range(len(output_map))])\n",
    "plt.title('Plot of Colors on the Scenario')\n",
    "sns.heatmap(colors, cmap=ListedColormap(['red', 'green']), linewidths=0.1)"
   ]
  },
  {
   "cell_type": "code",
   "execution_count": 92,
   "id": "4ee10b14-98ac-45ac-974e-d05e2e6c4891",
   "metadata": {},
   "outputs": [
    {
     "data": {
      "text/plain": [
       "<AxesSubplot:title={'center':'Position of Heart'}>"
      ]
     },
     "execution_count": 92,
     "metadata": {},
     "output_type": "execute_result"
    },
    {
     "data": {
      "image/png": "[encoded data removed]",
      "text/plain": [
       "<Figure size 432x288 with 2 Axes>"
      ]
     },
     "metadata": {
      "needs_background": "light"
     },
     "output_type": "display_data"
    }
   ],
   "source": [
    "heart = pd.DataFrame([[i.isHeart for i in output_map[j]] for j in range(len(output_map))])\n",
    "plt.title('Position of Heart')\n",
    "sns.heatmap(heart, cmap=ListedColormap(['lightgrey', 'red']), linewidths=0.1, annot=True)"
   ]
  },
  {
   "cell_type": "code",
   "execution_count": 93,
   "id": "15e817d4-4e15-4e1f-82ee-e171884db0b6",
   "metadata": {},
   "outputs": [
    {
     "data": {
      "text/plain": [
       "<AxesSubplot:title={'center':'Depth of Penalties'}>"
      ]
     },
     "execution_count": 93,
     "metadata": {},
     "output_type": "execute_result"
    },
    {
     "data": {
      "image/png": "[encoded data removed]",
      "text/plain": [
       "<Figure size 432x288 with 2 Axes>"
      ]
     },
     "metadata": {
      "needs_background": "light"
     },
     "output_type": "display_data"
    }
   ],
   "source": [
    "penalties = pd.DataFrame([[i.penalty for i in output_map[j]] for j in range(len(output_map))])\n",
    "plt.title('Depth of Penalties')\n",
    "sns.heatmap(penalties, cmap=\"gray_r\", linewidths=0.1, annot=True)"
   ]
  },
  {
   "cell_type": "code",
   "execution_count": 94,
   "id": "baa38d4b-2a97-43fc-83ba-6298815d7100",
   "metadata": {},
   "outputs": [
    {
     "ename": "ValueError",
     "evalue": "If using all scalar values, you must pass an index",
     "output_type": "error",
     "traceback": [
      "\u001b[1;31m---------------------------------------------------------------------------\u001b[0m",
      "\u001b[1;31mValueError\u001b[0m                                Traceback (most recent call last)",
      "\u001b[1;32m~\\AppData\\Local\\Temp/ipykernel_4184/97678593.py\u001b[0m in \u001b[0;36m<module>\u001b[1;34m\u001b[0m\n\u001b[1;32m----> 1\u001b[1;33m \u001b[0msns\u001b[0m\u001b[1;33m.\u001b[0m\u001b[0mkdeplot\u001b[0m\u001b[1;33m(\u001b[0m\u001b[0mpenalties\u001b[0m\u001b[1;33m)\u001b[0m\u001b[1;33m\u001b[0m\u001b[1;33m\u001b[0m\u001b[0m\n\u001b[0m",
      "\u001b[1;32m~\\anaconda3\\lib\\site-packages\\seaborn\\_decorators.py\u001b[0m in \u001b[0;36minner_f\u001b[1;34m(*args, **kwargs)\u001b[0m\n\u001b[0;32m     44\u001b[0m             )\n\u001b[0;32m     45\u001b[0m         \u001b[0mkwargs\u001b[0m\u001b[1;33m.\u001b[0m\u001b[0mupdate\u001b[0m\u001b[1;33m(\u001b[0m\u001b[1;33m{\u001b[0m\u001b[0mk\u001b[0m\u001b[1;33m:\u001b[0m \u001b[0marg\u001b[0m \u001b[1;32mfor\u001b[0m \u001b[0mk\u001b[0m\u001b[1;33m,\u001b[0m \u001b[0marg\u001b[0m \u001b[1;32min\u001b[0m \u001b[0mzip\u001b[0m\u001b[1;33m(\u001b[0m\u001b[0msig\u001b[0m\u001b[1;33m.\u001b[0m\u001b[0mparameters\u001b[0m\u001b[1;33m,\u001b[0m \u001b[0margs\u001b[0m\u001b[1;33m)\u001b[0m\u001b[1;33m}\u001b[0m\u001b[1;33m)\u001b[0m\u001b[1;33m\u001b[0m\u001b[1;33m\u001b[0m\u001b[0m\n\u001b[1;32m---> 46\u001b[1;33m         \u001b[1;32mreturn\u001b[0m \u001b[0mf\u001b[0m\u001b[1;33m(\u001b[0m\u001b[1;33m**\u001b[0m\u001b[0mkwargs\u001b[0m\u001b[1;33m)\u001b[0m\u001b[1;33m\u001b[0m\u001b[1;33m\u001b[0m\u001b[0m\n\u001b[0m\u001b[0;32m     47\u001b[0m     \u001b[1;32mreturn\u001b[0m \u001b[0minner_f\u001b[0m\u001b[1;33m\u001b[0m\u001b[1;33m\u001b[0m\u001b[0m\n\u001b[0;32m     48\u001b[0m \u001b[1;33m\u001b[0m\u001b[0m\n",
      "\u001b[1;32m~\\anaconda3\\lib\\site-packages\\seaborn\\distributions.py\u001b[0m in \u001b[0;36mkdeplot\u001b[1;34m(x, y, shade, vertical, kernel, bw, gridsize, cut, clip, legend, cumulative, shade_lowest, cbar, cbar_ax, cbar_kws, ax, weights, hue, palette, hue_order, hue_norm, multiple, common_norm, common_grid, levels, thresh, bw_method, bw_adjust, log_scale, color, fill, data, data2, warn_singular, **kwargs)\u001b[0m\n\u001b[0;32m   1736\u001b[0m     \u001b[1;31m# - - - - - - - - - - - - - - - - - - - - - - - - - - - - - - - - - - - - #\u001b[0m\u001b[1;33m\u001b[0m\u001b[1;33m\u001b[0m\u001b[0m\n\u001b[0;32m   1737\u001b[0m \u001b[1;33m\u001b[0m\u001b[0m\n\u001b[1;32m-> 1738\u001b[1;33m     p = _DistributionPlotter(\n\u001b[0m\u001b[0;32m   1739\u001b[0m         \u001b[0mdata\u001b[0m\u001b[1;33m=\u001b[0m\u001b[0mdata\u001b[0m\u001b[1;33m,\u001b[0m\u001b[1;33m\u001b[0m\u001b[1;33m\u001b[0m\u001b[0m\n\u001b[0;32m   1740\u001b[0m         \u001b[0mvariables\u001b[0m\u001b[1;33m=\u001b[0m\u001b[0m_DistributionPlotter\u001b[0m\u001b[1;33m.\u001b[0m\u001b[0mget_semantics\u001b[0m\u001b[1;33m(\u001b[0m\u001b[0mlocals\u001b[0m\u001b[1;33m(\u001b[0m\u001b[1;33m)\u001b[0m\u001b[1;33m)\u001b[0m\u001b[1;33m,\u001b[0m\u001b[1;33m\u001b[0m\u001b[1;33m\u001b[0m\u001b[0m\n",
      "\u001b[1;32m~\\anaconda3\\lib\\site-packages\\seaborn\\distributions.py\u001b[0m in \u001b[0;36m__init__\u001b[1;34m(self, data, variables)\u001b[0m\n\u001b[0;32m    109\u001b[0m     ):\n\u001b[0;32m    110\u001b[0m \u001b[1;33m\u001b[0m\u001b[0m\n\u001b[1;32m--> 111\u001b[1;33m         \u001b[0msuper\u001b[0m\u001b[1;33m(\u001b[0m\u001b[1;33m)\u001b[0m\u001b[1;33m.\u001b[0m\u001b[0m__init__\u001b[0m\u001b[1;33m(\u001b[0m\u001b[0mdata\u001b[0m\u001b[1;33m=\u001b[0m\u001b[0mdata\u001b[0m\u001b[1;33m,\u001b[0m \u001b[0mvariables\u001b[0m\u001b[1;33m=\u001b[0m\u001b[0mvariables\u001b[0m\u001b[1;33m)\u001b[0m\u001b[1;33m\u001b[0m\u001b[1;33m\u001b[0m\u001b[0m\n\u001b[0m\u001b[0;32m    112\u001b[0m \u001b[1;33m\u001b[0m\u001b[0m\n\u001b[0;32m    113\u001b[0m     \u001b[1;33m@\u001b[0m\u001b[0mproperty\u001b[0m\u001b[1;33m\u001b[0m\u001b[1;33m\u001b[0m\u001b[0m\n",
      "\u001b[1;32m~\\anaconda3\\lib\\site-packages\\seaborn\\_core.py\u001b[0m in \u001b[0;36m__init__\u001b[1;34m(self, data, variables)\u001b[0m\n\u001b[0;32m    603\u001b[0m     \u001b[1;32mdef\u001b[0m \u001b[0m__init__\u001b[0m\u001b[1;33m(\u001b[0m\u001b[0mself\u001b[0m\u001b[1;33m,\u001b[0m \u001b[0mdata\u001b[0m\u001b[1;33m=\u001b[0m\u001b[1;32mNone\u001b[0m\u001b[1;33m,\u001b[0m \u001b[0mvariables\u001b[0m\u001b[1;33m=\u001b[0m\u001b[1;33m{\u001b[0m\u001b[1;33m}\u001b[0m\u001b[1;33m)\u001b[0m\u001b[1;33m:\u001b[0m\u001b[1;33m\u001b[0m\u001b[1;33m\u001b[0m\u001b[0m\n\u001b[0;32m    604\u001b[0m \u001b[1;33m\u001b[0m\u001b[0m\n\u001b[1;32m--> 605\u001b[1;33m         \u001b[0mself\u001b[0m\u001b[1;33m.\u001b[0m\u001b[0massign_variables\u001b[0m\u001b[1;33m(\u001b[0m\u001b[0mdata\u001b[0m\u001b[1;33m,\u001b[0m \u001b[0mvariables\u001b[0m\u001b[1;33m)\u001b[0m\u001b[1;33m\u001b[0m\u001b[1;33m\u001b[0m\u001b[0m\n\u001b[0m\u001b[0;32m    606\u001b[0m \u001b[1;33m\u001b[0m\u001b[0m\n\u001b[0;32m    607\u001b[0m         \u001b[1;32mfor\u001b[0m \u001b[0mvar\u001b[0m\u001b[1;33m,\u001b[0m \u001b[0mcls\u001b[0m \u001b[1;32min\u001b[0m \u001b[0mself\u001b[0m\u001b[1;33m.\u001b[0m\u001b[0m_semantic_mappings\u001b[0m\u001b[1;33m.\u001b[0m\u001b[0mitems\u001b[0m\u001b[1;33m(\u001b[0m\u001b[1;33m)\u001b[0m\u001b[1;33m:\u001b[0m\u001b[1;33m\u001b[0m\u001b[1;33m\u001b[0m\u001b[0m\n",
      "\u001b[1;32m~\\anaconda3\\lib\\site-packages\\seaborn\\_core.py\u001b[0m in \u001b[0;36massign_variables\u001b[1;34m(self, data, variables)\u001b[0m\n\u001b[0;32m    666\u001b[0m         \u001b[1;32melse\u001b[0m\u001b[1;33m:\u001b[0m\u001b[1;33m\u001b[0m\u001b[1;33m\u001b[0m\u001b[0m\n\u001b[0;32m    667\u001b[0m             \u001b[0mself\u001b[0m\u001b[1;33m.\u001b[0m\u001b[0minput_format\u001b[0m \u001b[1;33m=\u001b[0m \u001b[1;34m\"long\"\u001b[0m\u001b[1;33m\u001b[0m\u001b[1;33m\u001b[0m\u001b[0m\n\u001b[1;32m--> 668\u001b[1;33m             plot_data, variables = self._assign_variables_longform(\n\u001b[0m\u001b[0;32m    669\u001b[0m                 \u001b[0mdata\u001b[0m\u001b[1;33m,\u001b[0m \u001b[1;33m**\u001b[0m\u001b[0mvariables\u001b[0m\u001b[1;33m,\u001b[0m\u001b[1;33m\u001b[0m\u001b[1;33m\u001b[0m\u001b[0m\n\u001b[0;32m    670\u001b[0m             )\n",
      "\u001b[1;32m~\\anaconda3\\lib\\site-packages\\seaborn\\_core.py\u001b[0m in \u001b[0;36m_assign_variables_longform\u001b[1;34m(self, data, **kwargs)\u001b[0m\n\u001b[0;32m    925\u001b[0m         \u001b[1;31m# Construct a tidy plot DataFrame. This will convert a number of\u001b[0m\u001b[1;33m\u001b[0m\u001b[1;33m\u001b[0m\u001b[0m\n\u001b[0;32m    926\u001b[0m         \u001b[1;31m# types automatically, aligning on index in case of pandas objects\u001b[0m\u001b[1;33m\u001b[0m\u001b[1;33m\u001b[0m\u001b[0m\n\u001b[1;32m--> 927\u001b[1;33m         \u001b[0mplot_data\u001b[0m \u001b[1;33m=\u001b[0m \u001b[0mpd\u001b[0m\u001b[1;33m.\u001b[0m\u001b[0mDataFrame\u001b[0m\u001b[1;33m(\u001b[0m\u001b[0mplot_data\u001b[0m\u001b[1;33m)\u001b[0m\u001b[1;33m\u001b[0m\u001b[1;33m\u001b[0m\u001b[0m\n\u001b[0m\u001b[0;32m    928\u001b[0m \u001b[1;33m\u001b[0m\u001b[0m\n\u001b[0;32m    929\u001b[0m         \u001b[1;31m# Reduce the variables dictionary to fields with valid data\u001b[0m\u001b[1;33m\u001b[0m\u001b[1;33m\u001b[0m\u001b[0m\n",
      "\u001b[1;32m~\\anaconda3\\lib\\site-packages\\pandas\\core\\frame.py\u001b[0m in \u001b[0;36m__init__\u001b[1;34m(self, data, index, columns, dtype, copy)\u001b[0m\n\u001b[0;32m    612\u001b[0m         \u001b[1;32melif\u001b[0m \u001b[0misinstance\u001b[0m\u001b[1;33m(\u001b[0m\u001b[0mdata\u001b[0m\u001b[1;33m,\u001b[0m \u001b[0mdict\u001b[0m\u001b[1;33m)\u001b[0m\u001b[1;33m:\u001b[0m\u001b[1;33m\u001b[0m\u001b[1;33m\u001b[0m\u001b[0m\n\u001b[0;32m    613\u001b[0m             \u001b[1;31m# GH#38939 de facto copy defaults to False only in non-dict cases\u001b[0m\u001b[1;33m\u001b[0m\u001b[1;33m\u001b[0m\u001b[0m\n\u001b[1;32m--> 614\u001b[1;33m             \u001b[0mmgr\u001b[0m \u001b[1;33m=\u001b[0m \u001b[0mdict_to_mgr\u001b[0m\u001b[1;33m(\u001b[0m\u001b[0mdata\u001b[0m\u001b[1;33m,\u001b[0m \u001b[0mindex\u001b[0m\u001b[1;33m,\u001b[0m \u001b[0mcolumns\u001b[0m\u001b[1;33m,\u001b[0m \u001b[0mdtype\u001b[0m\u001b[1;33m=\u001b[0m\u001b[0mdtype\u001b[0m\u001b[1;33m,\u001b[0m \u001b[0mcopy\u001b[0m\u001b[1;33m=\u001b[0m\u001b[0mcopy\u001b[0m\u001b[1;33m,\u001b[0m \u001b[0mtyp\u001b[0m\u001b[1;33m=\u001b[0m\u001b[0mmanager\u001b[0m\u001b[1;33m)\u001b[0m\u001b[1;33m\u001b[0m\u001b[1;33m\u001b[0m\u001b[0m\n\u001b[0m\u001b[0;32m    615\u001b[0m         \u001b[1;32melif\u001b[0m \u001b[0misinstance\u001b[0m\u001b[1;33m(\u001b[0m\u001b[0mdata\u001b[0m\u001b[1;33m,\u001b[0m \u001b[0mma\u001b[0m\u001b[1;33m.\u001b[0m\u001b[0mMaskedArray\u001b[0m\u001b[1;33m)\u001b[0m\u001b[1;33m:\u001b[0m\u001b[1;33m\u001b[0m\u001b[1;33m\u001b[0m\u001b[0m\n\u001b[0;32m    616\u001b[0m             \u001b[1;32mimport\u001b[0m \u001b[0mnumpy\u001b[0m\u001b[1;33m.\u001b[0m\u001b[0mma\u001b[0m\u001b[1;33m.\u001b[0m\u001b[0mmrecords\u001b[0m \u001b[1;32mas\u001b[0m \u001b[0mmrecords\u001b[0m\u001b[1;33m\u001b[0m\u001b[1;33m\u001b[0m\u001b[0m\n",
      "\u001b[1;32m~\\anaconda3\\lib\\site-packages\\pandas\\core\\internals\\construction.py\u001b[0m in \u001b[0;36mdict_to_mgr\u001b[1;34m(data, index, columns, dtype, typ, copy)\u001b[0m\n\u001b[0;32m    462\u001b[0m         \u001b[1;31m# TODO: can we get rid of the dt64tz special case above?\u001b[0m\u001b[1;33m\u001b[0m\u001b[1;33m\u001b[0m\u001b[0m\n\u001b[0;32m    463\u001b[0m \u001b[1;33m\u001b[0m\u001b[0m\n\u001b[1;32m--> 464\u001b[1;33m     return arrays_to_mgr(\n\u001b[0m\u001b[0;32m    465\u001b[0m         \u001b[0marrays\u001b[0m\u001b[1;33m,\u001b[0m \u001b[0mdata_names\u001b[0m\u001b[1;33m,\u001b[0m \u001b[0mindex\u001b[0m\u001b[1;33m,\u001b[0m \u001b[0mcolumns\u001b[0m\u001b[1;33m,\u001b[0m \u001b[0mdtype\u001b[0m\u001b[1;33m=\u001b[0m\u001b[0mdtype\u001b[0m\u001b[1;33m,\u001b[0m \u001b[0mtyp\u001b[0m\u001b[1;33m=\u001b[0m\u001b[0mtyp\u001b[0m\u001b[1;33m,\u001b[0m \u001b[0mconsolidate\u001b[0m\u001b[1;33m=\u001b[0m\u001b[0mcopy\u001b[0m\u001b[1;33m\u001b[0m\u001b[1;33m\u001b[0m\u001b[0m\n\u001b[0;32m    466\u001b[0m     )\n",
      "\u001b[1;32m~\\anaconda3\\lib\\site-packages\\pandas\\core\\internals\\construction.py\u001b[0m in \u001b[0;36marrays_to_mgr\u001b[1;34m(arrays, arr_names, index, columns, dtype, verify_integrity, typ, consolidate)\u001b[0m\n\u001b[0;32m    117\u001b[0m         \u001b[1;31m# figure out the index, if necessary\u001b[0m\u001b[1;33m\u001b[0m\u001b[1;33m\u001b[0m\u001b[0m\n\u001b[0;32m    118\u001b[0m         \u001b[1;32mif\u001b[0m \u001b[0mindex\u001b[0m \u001b[1;32mis\u001b[0m \u001b[1;32mNone\u001b[0m\u001b[1;33m:\u001b[0m\u001b[1;33m\u001b[0m\u001b[1;33m\u001b[0m\u001b[0m\n\u001b[1;32m--> 119\u001b[1;33m             \u001b[0mindex\u001b[0m \u001b[1;33m=\u001b[0m \u001b[0m_extract_index\u001b[0m\u001b[1;33m(\u001b[0m\u001b[0marrays\u001b[0m\u001b[1;33m)\u001b[0m\u001b[1;33m\u001b[0m\u001b[1;33m\u001b[0m\u001b[0m\n\u001b[0m\u001b[0;32m    120\u001b[0m         \u001b[1;32melse\u001b[0m\u001b[1;33m:\u001b[0m\u001b[1;33m\u001b[0m\u001b[1;33m\u001b[0m\u001b[0m\n\u001b[0;32m    121\u001b[0m             \u001b[0mindex\u001b[0m \u001b[1;33m=\u001b[0m \u001b[0mensure_index\u001b[0m\u001b[1;33m(\u001b[0m\u001b[0mindex\u001b[0m\u001b[1;33m)\u001b[0m\u001b[1;33m\u001b[0m\u001b[1;33m\u001b[0m\u001b[0m\n",
      "\u001b[1;32m~\\anaconda3\\lib\\site-packages\\pandas\\core\\internals\\construction.py\u001b[0m in \u001b[0;36m_extract_index\u001b[1;34m(data)\u001b[0m\n\u001b[0;32m    623\u001b[0m \u001b[1;33m\u001b[0m\u001b[0m\n\u001b[0;32m    624\u001b[0m         \u001b[1;32mif\u001b[0m \u001b[1;32mnot\u001b[0m \u001b[0mindexes\u001b[0m \u001b[1;32mand\u001b[0m \u001b[1;32mnot\u001b[0m \u001b[0mraw_lengths\u001b[0m\u001b[1;33m:\u001b[0m\u001b[1;33m\u001b[0m\u001b[1;33m\u001b[0m\u001b[0m\n\u001b[1;32m--> 625\u001b[1;33m             \u001b[1;32mraise\u001b[0m \u001b[0mValueError\u001b[0m\u001b[1;33m(\u001b[0m\u001b[1;34m\"If using all scalar values, you must pass an index\"\u001b[0m\u001b[1;33m)\u001b[0m\u001b[1;33m\u001b[0m\u001b[1;33m\u001b[0m\u001b[0m\n\u001b[0m\u001b[0;32m    626\u001b[0m \u001b[1;33m\u001b[0m\u001b[0m\n\u001b[0;32m    627\u001b[0m         \u001b[1;32mif\u001b[0m \u001b[0mhave_series\u001b[0m\u001b[1;33m:\u001b[0m\u001b[1;33m\u001b[0m\u001b[1;33m\u001b[0m\u001b[0m\n",
      "\u001b[1;31mValueError\u001b[0m: If using all scalar values, you must pass an index"
     ]
    }
   ],
   "source": [
    "sns.kdeplot(penalties)"
   ]
  },
  {
   "cell_type": "code",
   "execution_count": 68,
   "id": "4c36e0f2-fe90-4393-8509-3b07c22e34e4",
   "metadata": {},
   "outputs": [
    {
     "name": "stdout",
     "output_type": "stream",
     "text": [
      "21\n"
     ]
    }
   ],
   "source": [
    "agent = 0\n",
    "random_start = random.randint(0,35)\n",
    "print(random_start)"
   ]
  },
  {
   "cell_type": "code",
   "execution_count": 50,
   "id": "bb778f5d-f521-4790-9c5c-4779de919102",
   "metadata": {},
   "outputs": [],
   "source": [
    "def find_edges(number):\n",
    "    edges = [number-6, number+6, number-1, number+1]\n",
    "    edges = [i for i in edges if i>=0 and i<=35 and ((number-5)%6!=0 or i!=number+1) and ((number)%6!=0 or i!=number-1)]\n",
    "    return edges"
   ]
  },
  {
   "cell_type": "code",
   "execution_count": 51,
   "id": "d49e7eb4-8def-48ff-bbac-3cc371b11b93",
   "metadata": {
    "collapsed": true,
    "jupyter": {
     "outputs_hidden": true
    },
    "tags": []
   },
   "outputs": [
    {
     "data": {
      "text/plain": [
       "[[0, 1],\n",
       " [0, 6],\n",
       " [1, 0],\n",
       " [1, 2],\n",
       " [1, 7],\n",
       " [2, 1],\n",
       " [2, 3],\n",
       " [2, 8],\n",
       " [3, 2],\n",
       " [3, 4],\n",
       " [3, 9],\n",
       " [4, 3],\n",
       " [4, 5],\n",
       " [4, 10],\n",
       " [5, 4],\n",
       " [5, 11],\n",
       " [6, 0],\n",
       " [6, 7],\n",
       " [6, 12],\n",
       " [7, 1],\n",
       " [7, 6],\n",
       " [7, 8],\n",
       " [7, 13],\n",
       " [8, 2],\n",
       " [8, 7],\n",
       " [8, 9],\n",
       " [8, 14],\n",
       " [9, 3],\n",
       " [9, 8],\n",
       " [9, 10],\n",
       " [9, 15],\n",
       " [10, 4],\n",
       " [10, 9],\n",
       " [10, 11],\n",
       " [10, 16],\n",
       " [11, 5],\n",
       " [11, 10],\n",
       " [11, 17],\n",
       " [12, 6],\n",
       " [12, 13],\n",
       " [12, 18],\n",
       " [13, 7],\n",
       " [13, 12],\n",
       " [13, 14],\n",
       " [13, 19],\n",
       " [14, 8],\n",
       " [14, 13],\n",
       " [14, 15],\n",
       " [14, 20],\n",
       " [15, 9],\n",
       " [15, 14],\n",
       " [15, 16],\n",
       " [15, 21],\n",
       " [16, 10],\n",
       " [16, 15],\n",
       " [16, 17],\n",
       " [16, 22],\n",
       " [17, 11],\n",
       " [17, 16],\n",
       " [17, 23],\n",
       " [18, 12],\n",
       " [18, 19],\n",
       " [18, 24],\n",
       " [19, 13],\n",
       " [19, 18],\n",
       " [19, 20],\n",
       " [19, 25],\n",
       " [20, 14],\n",
       " [20, 19],\n",
       " [20, 21],\n",
       " [20, 26],\n",
       " [21, 15],\n",
       " [21, 20],\n",
       " [21, 22],\n",
       " [21, 27],\n",
       " [22, 16],\n",
       " [22, 21],\n",
       " [22, 23],\n",
       " [22, 28],\n",
       " [23, 17],\n",
       " [23, 22],\n",
       " [23, 29],\n",
       " [24, 18],\n",
       " [24, 25],\n",
       " [24, 30],\n",
       " [25, 19],\n",
       " [25, 24],\n",
       " [25, 26],\n",
       " [25, 31],\n",
       " [26, 20],\n",
       " [26, 25],\n",
       " [26, 27],\n",
       " [26, 32],\n",
       " [27, 21],\n",
       " [27, 26],\n",
       " [27, 28],\n",
       " [27, 33],\n",
       " [28, 22],\n",
       " [28, 27],\n",
       " [28, 29],\n",
       " [28, 34],\n",
       " [29, 23],\n",
       " [29, 28],\n",
       " [29, 35],\n",
       " [30, 24],\n",
       " [30, 31],\n",
       " [31, 25],\n",
       " [31, 30],\n",
       " [31, 32],\n",
       " [32, 26],\n",
       " [32, 31],\n",
       " [32, 33],\n",
       " [33, 27],\n",
       " [33, 32],\n",
       " [33, 34],\n",
       " [34, 28],\n",
       " [34, 33],\n",
       " [34, 35],\n",
       " [35, 29],\n",
       " [35, 34]]"
      ]
     },
     "execution_count": 51,
     "metadata": {},
     "output_type": "execute_result"
    }
   ],
   "source": [
    "edges = []\n",
    "for i in range(36):\n",
    "    edges.extend([[i,j] for j in sorted(find_edges(i))])\n",
    "edges"
   ]
  },
  {
   "cell_type": "code",
   "execution_count": 64,
   "id": "6bca2a81-d3f4-41b5-bb40-51b648f6b03e",
   "metadata": {},
   "outputs": [],
   "source": [
    "map_flattened = np.array(output_map).reshape(36)"
   ]
  },
  {
   "cell_type": "code",
   "execution_count": 73,
   "id": "820c4963-f026-43dd-89f5-2d529001305e",
   "metadata": {},
   "outputs": [
    {
     "data": {
      "text/plain": [
       "array([[ 21, -10, -11, -12,  19, -10],\n",
       "       [-10, -11, -12,  17, -12, -11],\n",
       "       [-11, -12,  17, -14, -13, -12],\n",
       "       [-10,  19, -12, -13, -12,  19],\n",
       "       [ 21, -10, -11, -12,  19, -10],\n",
       "       [ -8,  -9, -10,  19, -10,  -9]])"
      ]
     },
     "execution_count": 73,
     "metadata": {},
     "output_type": "execute_result"
    }
   ],
   "source": [
    "\n",
    "# def find_penalty(x, y, agent):\n",
    "np.array([(i.penalty + 11) if i.color==agent else (i.penalty - 9) for i in map_flattened]).reshape(6,6)\n",
    "# map_flattened[0].color == agent"
   ]
  },
  {
   "cell_type": "code",
   "execution_count": 74,
   "id": "e494a1b1-bfe0-46b7-8833-547c167e63aa",
   "metadata": {},
   "outputs": [],
   "source": [
    "graph = {i:[] for i in range(4)}\n",
    "\n",
    "def addedge(_from, _to, cost):\n",
    "    graph[_from].append((_to, cost))\n",
    "    graph[_to].append((_from, cost))\n",
    " \n",
    " \n",
    "# The nodes shown in above example(by alphabets) are\n",
    "# implemented using integers addedge(x,y,cost);\n",
    "addedge(0, 1, 3)\n",
    "addedge(0, 2, 6)"
   ]
  },
  {
   "cell_type": "code",
   "execution_count": 85,
   "id": "9e768216-fb7c-426a-b659-5ab10839e9af",
   "metadata": {},
   "outputs": [
    {
     "data": {
      "text/plain": [
       "{0: [(1, 3), (2, 6)], 1: [(0, 3)], 2: [(0, 6)], 3: []}"
      ]
     },
     "execution_count": 85,
     "metadata": {},
     "output_type": "execute_result"
    }
   ],
   "source": [
    "graph"
   ]
  },
  {
   "cell_type": "code",
   "execution_count": null,
   "id": "f31433d5-2a6b-41c7-b1c4-fad04a1866dc",
   "metadata": {},
   "outputs": [],
   "source": [
    "goal_node = 15"
   ]
  }
 ],
 "metadata": {
  "kernelspec": {
   "display_name": "Python 3 (ipykernel)",
   "language": "python",
   "name": "python3"
  },
  "language_info": {
   "codemirror_mode": {
    "name": "ipython",
    "version": 3
   },
   "file_extension": ".py",
   "mimetype": "text/x-python",
   "name": "python",
   "nbconvert_exporter": "python",
   "pygments_lexer": "ipython3",
   "version": "3.9.7"
  }
 },
 "nbformat": 4,
 "nbformat_minor": 5
}
